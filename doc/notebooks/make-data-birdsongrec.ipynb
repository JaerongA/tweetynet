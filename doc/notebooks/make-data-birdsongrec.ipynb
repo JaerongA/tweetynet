{
 "cells": [
  {
   "cell_type": "code",
   "execution_count": 1,
   "metadata": {},
   "outputs": [],
   "source": [
    "from configparser import ConfigParser\n",
    "from pathlib import Path\n",
    "import shutil"
   ]
  },
  {
   "cell_type": "code",
   "execution_count": 2,
   "metadata": {},
   "outputs": [],
   "source": [
    "REPO_ROOT = Path('~/Documents/repos/coding/birdsong/tweetynet/')\n",
    "REPO_ROOT = REPO_ROOT.expanduser()\n",
    "CONFIGS_DIR = REPO_ROOT.joinpath('src/configs/')\n",
    "BR_CONFIGS = sorted(list(CONFIGS_DIR.glob('*BirdsongRecognition*ini')))\n",
    "BR_CONFIGS = [str(config) for config in BR_CONFIGS]\n",
    "if not all([f'bird0{i}' in br_config for i, br_config in enumerate(BR_CONFIGS)]):\n",
    "    raise ValueError(\n",
    "        \"could not find all config.ini files for BirdsongRecognition \"\n",
    "        \"in consecutive order (i.e., 10 files with names that end in \"\n",
    "        \"bird00.ini, bird01.ini, ... bird09.ini)\"\n",
    "    )\n",
    "    \n",
    "BR_DATA_ROOT = REPO_ROOT.joinpath('data/BirdsongRecognition')"
   ]
  },
  {
   "cell_type": "code",
   "execution_count": 7,
   "metadata": {},
   "outputs": [],
   "source": [
    "# path to root of repository that contains results from running learncurve.train with each config.ini file\n",
    "NEW_PARENT = '/media/art/HD-LCU3/tweetynet_paper/BirdsongRecognition'\n",
    "\n",
    "# \"roots\" of paths in config.ini files that should be replaced with RESULTS_REPO_ROOT\n",
    "OLD_PARENTS = [\n",
    "    '/home/nickledave/Documents/data/BirdsongRecognition/vak',\n",
    "    '~/Documents/data/birdsong/BirdsongRecognition/vak',\n",
    "    '~/Documents/data/BirdsongRecognition/vak',\n",
    "    '~/Documents/data/birdsong/vak',\n",
    "]"
   ]
  },
  {
   "cell_type": "code",
   "execution_count": 14,
   "metadata": {},
   "outputs": [],
   "source": [
    "def remove_subdirs(root_dir=BR_DATA_ROOT):\n",
    "    \"\"\"removes all sub-directories from a directory\"\"\"\n",
    "    subdirs = [subdir for subdir in root_dir.iterdir() if subdir.is_dir()]\n",
    "    for subdir in subdirs:\n",
    "        shutil.rmtree(subdir)"
   ]
  },
  {
   "cell_type": "code",
   "execution_count": 21,
   "metadata": {},
   "outputs": [],
   "source": [
    "def change_parent(path, new_parent=NEW_PARENT, old_parents=OLD_PARENTS):\n",
    "    path = str(path)\n",
    "    for old_parent in OLD_PARENTS:\n",
    "        if old_parent in path:\n",
    "            path = path.replace(old_parent, new_parent)\n",
    "\n",
    "    assert new_parent in path, f'did not find parent to replace in {path}'\n",
    "    path = Path(path)\n",
    "    return path"
   ]
  },
  {
   "cell_type": "code",
   "execution_count": 22,
   "metadata": {},
   "outputs": [],
   "source": [
    "def copy_test_dirs(br_configs=BR_CONFIGS, br_data_root=BR_DATA_ROOT,\n",
    "                   new_parent=NEW_PARENT, old_parents=OLD_PARENTS):\n",
    "    \"\"\"copy test dir to root, using path from .ini file\n",
    "    \n",
    "    Parameters\n",
    "    ----------\n",
    "    old_parent : list\n",
    "        of str\n",
    "    new_parent : st\n",
    "    br_configs : list\n",
    "        of str, paths to config.ini files for BirdsongRecognition repository\n",
    "    \"\"\"\n",
    "    config_obj = ConfigParser()\n",
    "    for birdnum, config_ini in enumerate(br_configs):\n",
    "        config_obj.read(config_ini)\n",
    "        results_dirname = config_obj['OUTPUT']['results_dir_made_by_main_script']\n",
    "        results_dirname = Path(results_dirname)\n",
    "        \n",
    "        src = results_dirname.joinpath('test')\n",
    "        src = change_parent(src, new_parent, old_parents)\n",
    "        dst = br_data_root.joinpath(f'Bird{birdnum}')\n",
    "        if dst.exists():\n",
    "            raise ValueError(f\"can't copy to directory, already exists: {dst}\")\n",
    "        shutil.copytree(src, dst)"
   ]
  },
  {
   "cell_type": "code",
   "execution_count": 12,
   "metadata": {},
   "outputs": [],
   "source": [
    "def main():\n",
    "    remove_subdirs()\n",
    "    copy_test_dirs()"
   ]
  }
 ],
 "metadata": {
  "kernelspec": {
   "display_name": "Python 3",
   "language": "python",
   "name": "python3"
  },
  "language_info": {
   "codemirror_mode": {
    "name": "ipython",
    "version": 3
   },
   "file_extension": ".py",
   "mimetype": "text/x-python",
   "name": "python",
   "nbconvert_exporter": "python",
   "pygments_lexer": "ipython3",
   "version": "3.6.7"
  }
 },
 "nbformat": 4,
 "nbformat_minor": 4
}
