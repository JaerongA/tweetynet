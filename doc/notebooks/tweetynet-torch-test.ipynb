{
 "cells": [
  {
   "cell_type": "code",
   "execution_count": 1,
   "metadata": {},
   "outputs": [],
   "source": [
    "import torch\n",
    "from torch import nn\n",
    "from torch.nn import functional as F"
   ]
  },
  {
   "cell_type": "code",
   "execution_count": 2,
   "metadata": {},
   "outputs": [],
   "source": [
    "class Conv2dTF(nn.Conv2d):\n",
    "    \"\"\"Conv2d with padding behavior from Tensorflow\n",
    "\n",
    "    adapted from\n",
    "    https://github.com/mlperf/inference/blob/16a5661eea8f0545e04c86029362e22113c2ec09/others/edge/object_detection/ssd_mobilenet/pytorch/utils.py#L40\n",
    "    as referenced in this issue:\n",
    "    https://github.com/pytorch/pytorch/issues/3867#issuecomment-507025011\n",
    "\n",
    "    used to maintain behavior of original implementation of TweetyNet that used Tensorflow 1.0 low-level API\n",
    "    \"\"\"\n",
    "    def __init__(self, *args, **kwargs):\n",
    "        super(Conv2dTF, self).__init__(*args, **kwargs)\n",
    "        self.padding = kwargs.get(\"padding\", \"SAME\")\n",
    "\n",
    "    def _compute_padding(self, input, dim):\n",
    "        input_size = input.size(dim + 2)\n",
    "        filter_size = self.weight.size(dim + 2)\n",
    "        effective_filter_size = (filter_size - 1) * self.dilation[dim] + 1\n",
    "        out_size = (input_size + self.stride[dim] - 1) // self.stride[dim]\n",
    "        total_padding = max(\n",
    "            0, (out_size - 1) * self.stride[dim] + effective_filter_size - input_size\n",
    "        )\n",
    "        additional_padding = int(total_padding % 2 != 0)\n",
    "\n",
    "        return additional_padding, total_padding\n",
    "\n",
    "    def forward(self, input):\n",
    "        if self.padding == \"VALID\":\n",
    "            return F.conv2d(\n",
    "                input,\n",
    "                self.weight,\n",
    "                self.bias,\n",
    "                self.stride,\n",
    "                padding=0,\n",
    "                dilation=self.dilation,\n",
    "                groups=self.groups,\n",
    "            )\n",
    "        rows_odd, padding_rows = self._compute_padding(input, dim=0)\n",
    "        cols_odd, padding_cols = self._compute_padding(input, dim=1)\n",
    "        if rows_odd or cols_odd:\n",
    "            input = F.pad(input, [0, cols_odd, 0, rows_odd])\n",
    "\n",
    "        return F.conv2d(\n",
    "            input,\n",
    "            self.weight,\n",
    "            self.bias,\n",
    "            self.stride,\n",
    "            padding=(padding_rows // 2, padding_cols // 2),\n",
    "            dilation=self.dilation,\n",
    "            groups=self.groups,\n",
    "        )"
   ]
  },
  {
   "cell_type": "code",
   "execution_count": 3,
   "metadata": {},
   "outputs": [],
   "source": [
    "input_shape=(1, 513, 88)\n",
    "conv1_filters=32\n",
    "conv1_kernel_size=(5, 5)\n",
    "conv2_filters=64\n",
    "conv2_kernel_size=(5, 5)\n",
    "pool1_size=(8, 1)\n",
    "pool1_stride=(8, 1)\n",
    "pool2_size=(8, 1)\n",
    "pool2_stride=(8, 1)\n",
    "\n",
    "\n",
    "cnn = nn.Sequential(\n",
    "            Conv2dTF(in_channels=input_shape[0],\n",
    "                     out_channels=conv1_filters,\n",
    "                     kernel_size=conv1_kernel_size,\n",
    "                     padding='same'\n",
    "                     ),\n",
    "            nn.ReLU(inplace=True),\n",
    "            nn.MaxPool2d(kernel_size=pool1_size,\n",
    "                         stride=pool1_stride),\n",
    "            Conv2dTF(in_channels=conv1_filters,\n",
    "                      out_channels=conv2_filters,\n",
    "                      kernel_size=conv2_kernel_size,\n",
    "                     padding = 'same'\n",
    "                     ),\n",
    "            nn.ReLU(inplace=True),\n",
    "            nn.MaxPool2d(kernel_size=pool2_size,\n",
    "                         stride=pool2_stride),\n",
    "        )"
   ]
  },
  {
   "cell_type": "code",
   "execution_count": 4,
   "metadata": {},
   "outputs": [],
   "source": [
    "batch_shape = tuple((1,) + input_shape)\n",
    "tmp = torch.rand(batch_shape)\n",
    "tmp_out = cnn(tmp)"
   ]
  },
  {
   "cell_type": "code",
   "execution_count": 5,
   "metadata": {},
   "outputs": [
    {
     "data": {
      "text/plain": [
       "torch.Size([1, 64, 8, 88])"
      ]
     },
     "execution_count": 5,
     "metadata": {},
     "output_type": "execute_result"
    }
   ],
   "source": [
    "tmp_out.shape"
   ]
  },
  {
   "cell_type": "code",
   "execution_count": 6,
   "metadata": {},
   "outputs": [],
   "source": [
    "n_features = tmp_out.shape[1] * tmp_out.shape[2]"
   ]
  },
  {
   "cell_type": "code",
   "execution_count": 9,
   "metadata": {},
   "outputs": [],
   "source": [
    "x = tmp_out.view(1, n_features, -1).permute(0, 2, 1)"
   ]
  },
  {
   "cell_type": "code",
   "execution_count": 10,
   "metadata": {},
   "outputs": [
    {
     "data": {
      "text/plain": [
       "torch.Size([1, 88, 512])"
      ]
     },
     "execution_count": 10,
     "metadata": {},
     "output_type": "execute_result"
    }
   ],
   "source": [
    "x.shape"
   ]
  },
  {
   "cell_type": "code",
   "execution_count": 8,
   "metadata": {},
   "outputs": [],
   "source": [
    "rnn = nn.LSTM(\n",
    "    input_size=n_features,\n",
    "    hidden_size=n_features,\n",
    "    num_layers=1,\n",
    "    dropout=0,\n",
    "    bidirectional=True)"
   ]
  },
  {
   "cell_type": "code",
   "execution_count": 12,
   "metadata": {},
   "outputs": [],
   "source": [
    "rnn_out, (hidden, cell_state) = rnn(x)"
   ]
  },
  {
   "cell_type": "code",
   "execution_count": 13,
   "metadata": {},
   "outputs": [
    {
     "data": {
      "text/plain": [
       "torch.Size([1, 88, 1024])"
      ]
     },
     "execution_count": 13,
     "metadata": {},
     "output_type": "execute_result"
    }
   ],
   "source": [
    "rnn_out.shape"
   ]
  },
  {
   "cell_type": "code",
   "execution_count": 16,
   "metadata": {},
   "outputs": [],
   "source": [
    "num_classes = 10"
   ]
  },
  {
   "cell_type": "code",
   "execution_count": 17,
   "metadata": {},
   "outputs": [],
   "source": [
    "fc = nn.Linear(2 * n_features, num_classes)"
   ]
  },
  {
   "cell_type": "code",
   "execution_count": 19,
   "metadata": {},
   "outputs": [],
   "source": [
    "x = fc(rnn_out)"
   ]
  },
  {
   "cell_type": "code",
   "execution_count": 20,
   "metadata": {},
   "outputs": [
    {
     "data": {
      "text/plain": [
       "torch.Size([1, 88, 10])"
      ]
     },
     "execution_count": 20,
     "metadata": {},
     "output_type": "execute_result"
    }
   ],
   "source": [
    "x.shape"
   ]
  },
  {
   "cell_type": "code",
   "execution_count": null,
   "metadata": {},
   "outputs": [],
   "source": []
  }
 ],
 "metadata": {
  "kernelspec": {
   "display_name": "Python 3",
   "language": "python",
   "name": "python3"
  },
  "language_info": {
   "codemirror_mode": {
    "name": "ipython",
    "version": 3
   },
   "file_extension": ".py",
   "mimetype": "text/x-python",
   "name": "python",
   "nbconvert_exporter": "python",
   "pygments_lexer": "ipython3",
   "version": "3.6.10"
  }
 },
 "nbformat": 4,
 "nbformat_minor": 4
}
