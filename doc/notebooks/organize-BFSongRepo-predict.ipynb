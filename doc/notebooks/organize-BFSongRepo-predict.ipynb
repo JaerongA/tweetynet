{
 "cells": [
  {
   "cell_type": "code",
   "execution_count": 1,
   "metadata": {},
   "outputs": [],
   "source": [
    "from configparser import ConfigParser\n",
    "import os\n",
    "from pathlib import Path\n",
    "import shutil\n",
    "\n",
    "import tqdm\n",
    "import vak"
   ]
  },
  {
   "cell_type": "code",
   "execution_count": 2,
   "metadata": {},
   "outputs": [],
   "source": [
    "BIRDS = ['bl26lb16', 'gy6or6', 'or60yw70', 'gr41rd51']\n",
    "\n",
    "CONFIGS_DIR = Path('../../src/configs/')\n",
    "BF_CONFIGS = sorted(list(CONFIGS_DIR.glob('*BFSongRepository*ini')))\n",
    "\n",
    "\n",
    "configs_by_bird = {\n",
    "    bird: [bf_config for bf_config in BF_CONFIGS if bird in str(bf_config)][0]\n",
    "    for bird in BIRDS\n",
    "}"
   ]
  },
  {
   "cell_type": "code",
   "execution_count": 3,
   "metadata": {},
   "outputs": [],
   "source": [
    "BFSongRepo = Path('~/Documents/data/BFSongRepository/').expanduser()\n",
    "\n",
    "all_notmats = list(BFSongRepo.glob('*/*/*.not.mat'))\n",
    "bird_date_dirs = set([notmat.parents[0] for notmat in all_notmats])"
   ]
  },
  {
   "cell_type": "markdown",
   "metadata": {},
   "source": [
    "copy all .cbins with .not.mats into a sub-directory"
   ]
  },
  {
   "cell_type": "code",
   "execution_count": 10,
   "metadata": {},
   "outputs": [
    {
     "name": "stderr",
     "output_type": "stream",
     "text": [
      " 20%|█▉        | 17/87 [00:00<00:00, 169.53it/s]"
     ]
    },
    {
     "name": "stdout",
     "output_type": "stream",
     "text": [
      "\n",
      "copying annotated songs in {bird_date_dir} into sub-directory\n"
     ]
    },
    {
     "name": "stderr",
     "output_type": "stream",
     "text": [
      "100%|██████████| 87/87 [00:00<00:00, 190.17it/s]\n",
      " 16%|█▋        | 33/202 [00:00<00:00, 322.10it/s]"
     ]
    },
    {
     "name": "stdout",
     "output_type": "stream",
     "text": [
      "\n",
      "copying annotated songs in {bird_date_dir} into sub-directory\n"
     ]
    },
    {
     "name": "stderr",
     "output_type": "stream",
     "text": [
      "100%|██████████| 202/202 [00:00<00:00, 301.39it/s]\n",
      " 18%|█▊        | 21/117 [00:00<00:00, 208.57it/s]"
     ]
    },
    {
     "name": "stdout",
     "output_type": "stream",
     "text": [
      "\n",
      "copying annotated songs in {bird_date_dir} into sub-directory\n"
     ]
    },
    {
     "name": "stderr",
     "output_type": "stream",
     "text": [
      "100%|██████████| 117/117 [00:00<00:00, 200.95it/s]\n",
      " 29%|██▉       | 21/73 [00:00<00:00, 204.10it/s]"
     ]
    },
    {
     "name": "stdout",
     "output_type": "stream",
     "text": [
      "\n",
      "copying annotated songs in {bird_date_dir} into sub-directory\n"
     ]
    },
    {
     "name": "stderr",
     "output_type": "stream",
     "text": [
      "100%|██████████| 73/73 [00:00<00:00, 209.46it/s]\n",
      " 17%|█▋        | 27/162 [00:00<00:00, 266.94it/s]"
     ]
    },
    {
     "name": "stdout",
     "output_type": "stream",
     "text": [
      "\n",
      "copying annotated songs in {bird_date_dir} into sub-directory\n"
     ]
    },
    {
     "name": "stderr",
     "output_type": "stream",
     "text": [
      "100%|██████████| 162/162 [00:00<00:00, 317.07it/s]\n",
      " 33%|███▎      | 71/215 [00:00<00:00, 702.11it/s]"
     ]
    },
    {
     "name": "stdout",
     "output_type": "stream",
     "text": [
      "\n",
      "copying annotated songs in {bird_date_dir} into sub-directory\n"
     ]
    },
    {
     "name": "stderr",
     "output_type": "stream",
     "text": [
      "100%|██████████| 215/215 [00:00<00:00, 686.06it/s]\n",
      " 10%|█         | 21/203 [00:00<00:00, 204.35it/s]"
     ]
    },
    {
     "name": "stdout",
     "output_type": "stream",
     "text": [
      "\n",
      "copying annotated songs in {bird_date_dir} into sub-directory\n"
     ]
    },
    {
     "name": "stderr",
     "output_type": "stream",
     "text": [
      "100%|██████████| 203/203 [00:00<00:00, 216.44it/s]\n",
      " 43%|████▎     | 22/51 [00:00<00:00, 216.74it/s]"
     ]
    },
    {
     "name": "stdout",
     "output_type": "stream",
     "text": [
      "\n",
      "copying annotated songs in {bird_date_dir} into sub-directory\n"
     ]
    },
    {
     "name": "stderr",
     "output_type": "stream",
     "text": [
      "100%|██████████| 51/51 [00:00<00:00, 217.09it/s]\n",
      " 28%|██▊       | 26/92 [00:00<00:00, 257.50it/s]"
     ]
    },
    {
     "name": "stdout",
     "output_type": "stream",
     "text": [
      "\n",
      "copying annotated songs in {bird_date_dir} into sub-directory\n"
     ]
    },
    {
     "name": "stderr",
     "output_type": "stream",
     "text": [
      "100%|██████████| 92/92 [00:00<00:00, 119.27it/s]\n",
      " 44%|████▍     | 33/75 [00:00<00:00, 325.06it/s]"
     ]
    },
    {
     "name": "stdout",
     "output_type": "stream",
     "text": [
      "\n",
      "copying annotated songs in {bird_date_dir} into sub-directory\n"
     ]
    },
    {
     "name": "stderr",
     "output_type": "stream",
     "text": [
      "100%|██████████| 75/75 [00:00<00:00, 327.56it/s]\n",
      " 17%|█▋        | 30/172 [00:00<00:00, 274.67it/s]"
     ]
    },
    {
     "name": "stdout",
     "output_type": "stream",
     "text": [
      "\n",
      "copying annotated songs in {bird_date_dir} into sub-directory\n"
     ]
    },
    {
     "name": "stderr",
     "output_type": "stream",
     "text": [
      "100%|██████████| 172/172 [00:00<00:00, 519.54it/s]\n",
      "  0%|          | 0/378 [00:00<?, ?it/s]"
     ]
    },
    {
     "name": "stdout",
     "output_type": "stream",
     "text": [
      "\n",
      "copying annotated songs in {bird_date_dir} into sub-directory\n"
     ]
    },
    {
     "name": "stderr",
     "output_type": "stream",
     "text": [
      "100%|██████████| 378/378 [00:03<00:00, 106.43it/s]\n",
      " 33%|███▎      | 70/212 [00:00<00:00, 689.47it/s]"
     ]
    },
    {
     "name": "stdout",
     "output_type": "stream",
     "text": [
      "\n",
      "copying annotated songs in {bird_date_dir} into sub-directory\n"
     ]
    },
    {
     "name": "stderr",
     "output_type": "stream",
     "text": [
      "100%|██████████| 212/212 [00:00<00:00, 652.16it/s]\n",
      "100%|██████████| 39/39 [00:00<00:00, 694.33it/s]\n",
      "  0%|          | 0/111 [00:00<?, ?it/s]"
     ]
    },
    {
     "name": "stdout",
     "output_type": "stream",
     "text": [
      "\n",
      "copying annotated songs in {bird_date_dir} into sub-directory\n",
      "\n",
      "copying annotated songs in {bird_date_dir} into sub-directory\n"
     ]
    },
    {
     "name": "stderr",
     "output_type": "stream",
     "text": [
      "100%|██████████| 111/111 [00:02<00:00, 41.22it/s]\n",
      " 30%|███       | 21/70 [00:00<00:00, 208.08it/s]"
     ]
    },
    {
     "name": "stdout",
     "output_type": "stream",
     "text": [
      "\n",
      "copying annotated songs in {bird_date_dir} into sub-directory\n"
     ]
    },
    {
     "name": "stderr",
     "output_type": "stream",
     "text": [
      "100%|██████████| 70/70 [00:00<00:00, 219.51it/s]\n",
      " 11%|█         | 22/196 [00:00<00:00, 214.68it/s]"
     ]
    },
    {
     "name": "stdout",
     "output_type": "stream",
     "text": [
      "\n",
      "copying annotated songs in {bird_date_dir} into sub-directory\n"
     ]
    },
    {
     "name": "stderr",
     "output_type": "stream",
     "text": [
      "100%|██████████| 196/196 [00:00<00:00, 208.80it/s]\n",
      " 36%|███▋      | 59/162 [00:00<00:00, 589.83it/s]"
     ]
    },
    {
     "name": "stdout",
     "output_type": "stream",
     "text": [
      "\n",
      "copying annotated songs in {bird_date_dir} into sub-directory\n"
     ]
    },
    {
     "name": "stderr",
     "output_type": "stream",
     "text": [
      "100%|██████████| 162/162 [00:00<00:00, 580.73it/s]\n"
     ]
    }
   ],
   "source": [
    "# for bird_date_dir in bird_date_dirs:\n",
    "#     has_notmat = bird_date_dir.joinpath('has_notmat')\n",
    "#     has_notmat.mkdir(exist_ok=True)\n",
    "#     notmats_this_date_dir = sorted(list(bird_date_dir.glob('*.not.mat')))\n",
    "#     print(f'\\ncopying annotated songs in {bird_date_dir} into sub-directory')\n",
    "#     for notmat in tqdm.tqdm(notmats_this_date_dir):\n",
    "#         shutil.copy(notmat, dst=has_notmat)\n",
    "#         cbin = notmat.parent.joinpath(\n",
    "#             Path(notmat.stem).stem\n",
    "#         )\n",
    "#         shutil.copy(cbin, dst=has_notmat)  # cbin_file, stem.stem removes .not.mat\n",
    "#         rec = notmat.parent.joinpath(\n",
    "#             Path(Path(notmat.stem).stem).stem + '.rec'\n",
    "#         )\n",
    "#         shutil.copy(rec, dst=has_notmat)\n",
    "#         tmp = notmat.parent.joinpath(\n",
    "#             Path(Path(notmat.stem).stem).stem + '.tmp'\n",
    "#         )\n",
    "#         shutil.copy(tmp, dst=has_notmat)"
   ]
  },
  {
   "cell_type": "markdown",
   "metadata": {},
   "source": [
    "get dirs to predict for each bird"
   ]
  },
  {
   "cell_type": "code",
   "execution_count": 4,
   "metadata": {},
   "outputs": [],
   "source": [
    "dirs_to_predict = {}\n",
    "for bird in BIRDS:\n",
    "    these = [\n",
    "        bird_date_dir for bird_date_dir in bird_date_dirs\n",
    "        if bird in str(bird_date_dir)\n",
    "    ]\n",
    "    these = [path.joinpath('has_notmat')\n",
    "             for path in these]\n",
    "    dirs_to_predict[bird] = these"
   ]
  },
  {
   "cell_type": "code",
   "execution_count": 5,
   "metadata": {},
   "outputs": [],
   "source": [
    "spect_params = {'fft_size': 512,\n",
    "                'step_size': 62,\n",
    "                'freq_cutoffs': [500, 10000],\n",
    "                'thresh': 6.25,\n",
    "                'transform_type': 'log_spect'}\n",
    "sp_nt = vak.config.spectrogram.SpectConfig(**spect_params)"
   ]
  },
  {
   "cell_type": "code",
   "execution_count": 6,
   "metadata": {},
   "outputs": [
    {
     "name": "stdout",
     "output_type": "stream",
     "text": [
      "predicting segments and labels for bird: bl26lb16\n",
      "\tgetting labelmap from /home/nickledave/Documents/data/BFSongRepository/vak/bl26lb16/_prep_190701_205301.train.vds.json\n",
      "[########################################] | 100% Completed |  0.5s\n",
      "\tmaking dataset from /home/nickledave/Documents/data/BFSongRepository/bl26lb16/042012/has_notmat\n",
      "[########################################] | 100% Completed | 25.5s\n",
      "[########################################] | 100% Completed | 21.8s\n",
      "\trunning vak.core.predict on /home/nickledave/Documents/data/BFSongRepository/bl26lb16/042012/has_notmat\n",
      "[########################################] | 100% Completed | 19.3s\n",
      "WARNING:tensorflow:From /home/nickledave/anaconda3/envs/vak-env/lib/python3.6/site-packages/tweetynet/model.py:227: conv2d (from tensorflow.python.layers.convolutional) is deprecated and will be removed in a future version.\n",
      "Instructions for updating:\n",
      "Use keras.layers.conv2d instead.\n",
      "WARNING:tensorflow:From /home/nickledave/anaconda3/envs/vak-env/lib/python3.6/site-packages/tensorflow/python/framework/op_def_library.py:263: colocate_with (from tensorflow.python.framework.ops) is deprecated and will be removed in a future version.\n",
      "Instructions for updating:\n",
      "Colocations handled automatically by placer.\n",
      "WARNING:tensorflow:From /home/nickledave/anaconda3/envs/vak-env/lib/python3.6/site-packages/tweetynet/model.py:232: max_pooling2d (from tensorflow.python.layers.pooling) is deprecated and will be removed in a future version.\n",
      "Instructions for updating:\n",
      "Use keras.layers.max_pooling2d instead.\n",
      "\n",
      "WARNING: The TensorFlow contrib module will not be included in TensorFlow 2.0.\n",
      "For more information, please see:\n",
      "  * https://github.com/tensorflow/community/blob/master/rfcs/20180907-contrib-sunset.md\n",
      "  * https://github.com/tensorflow/addons\n",
      "If you depend on functionality not listed there, please file an issue.\n",
      "\n",
      "WARNING:tensorflow:From /home/nickledave/anaconda3/envs/vak-env/lib/python3.6/site-packages/tweetynet/model.py:260: BasicLSTMCell.__init__ (from tensorflow.python.ops.rnn_cell_impl) is deprecated and will be removed in a future version.\n",
      "Instructions for updating:\n",
      "This class is equivalent as tf.keras.layers.LSTMCell, and will be replaced by that in Tensorflow 2.0.\n",
      "WARNING:tensorflow:From /home/nickledave/anaconda3/envs/vak-env/lib/python3.6/site-packages/tweetynet/model.py:270: bidirectional_dynamic_rnn (from tensorflow.python.ops.rnn) is deprecated and will be removed in a future version.\n",
      "Instructions for updating:\n",
      "Please use `keras.layers.Bidirectional(keras.layers.RNN(cell))`, which is equivalent to this API\n",
      "WARNING:tensorflow:From /home/nickledave/anaconda3/envs/vak-env/lib/python3.6/site-packages/tensorflow/python/ops/rnn.py:443: dynamic_rnn (from tensorflow.python.ops.rnn) is deprecated and will be removed in a future version.\n",
      "Instructions for updating:\n",
      "Please use `keras.layers.RNN(cell)`, which is equivalent to this API\n",
      "WARNING:tensorflow:From /home/nickledave/anaconda3/envs/vak-env/lib/python3.6/site-packages/tensorflow/python/ops/rnn.py:626: to_int32 (from tensorflow.python.ops.math_ops) is deprecated and will be removed in a future version.\n",
      "Instructions for updating:\n",
      "Use tf.cast instead.\n"
     ]
    },
    {
     "name": "stderr",
     "output_type": "stream",
     "text": [
      "Predicting labels for ['/home/nickledave/Documents/data/BFSongRepository/bl26lb16/042012/has_notmat/predict.vds.json']: 100%|██████████| 3059/3059 [02:47<00:00, 18.21it/s]\n"
     ]
    },
    {
     "name": "stdout",
     "output_type": "stream",
     "text": [
      "> /home/nickledave/Documents/repos/vak/src/vak/utils/labels.py(309)lbl_tb2labels()\n",
      "-> idx = np.diff(labeled_timebins, axis=0).astype(np.bool)\n"
     ]
    },
    {
     "name": "stdin",
     "output_type": "stream",
     "text": [
      "(Pdb)  np.diff(labeled_timebins, axis=0).astype(np.bool)\n"
     ]
    },
    {
     "name": "stdout",
     "output_type": "stream",
     "text": [
      "array([ True, False, False, ..., False, False, False])\n"
     ]
    },
    {
     "name": "stdin",
     "output_type": "stream",
     "text": [
      "(Pdb)  labeled_tiembins\n"
     ]
    },
    {
     "name": "stdout",
     "output_type": "stream",
     "text": [
      "*** NameError: name 'labeled_tiembins' is not defined\n"
     ]
    },
    {
     "name": "stdin",
     "output_type": "stream",
     "text": [
      "(Pdb)  labeled_timebins\n"
     ]
    },
    {
     "name": "stdout",
     "output_type": "stream",
     "text": [
      "array([7, 0, 0, ..., 0, 0, 0], dtype=int32)\n"
     ]
    },
    {
     "name": "stdin",
     "output_type": "stream",
     "text": [
      "(Pdb)  np.where(np.diff(labeled_timebins, axis=0))\n"
     ]
    },
    {
     "name": "stdout",
     "output_type": "stream",
     "text": [
      "(array([    0,    86,    87,    88,   174,   175,   176,   262,   263,\n",
      "         264,   350,   351,   352,   438,   439,   440,   526,   527,\n",
      "         528,   614,   615,   616,   702,   703,   790,   791,   792,\n",
      "         878,   879,   966,   967,   968,  1054,  1055,  1056,  1142,\n",
      "        1143,  1144,  1230,  1231,  1232,  1318,  1319,  1320,  1406,\n",
      "        1407,  1408,  1494,  1495,  1496,  1582,  1583,  1670,  1671,\n",
      "        1672,  1758,  1759,  1760,  1846,  1847,  1848,  1934,  1935,\n",
      "        1936,  2022,  2023,  2110,  2111,  2112,  2198,  2199,  2200,\n",
      "        2286,  2287,  2374,  2375,  2376,  2462,  2463,  2464,  2550,\n",
      "        2551,  2552,  2638,  2639,  2640,  2726,  2727,  2728,  2814,\n",
      "        2815,  2816,  2902,  2903,  2904,  2990,  2991,  3078,  3079,\n",
      "        3080,  3166,  3167,  3168,  3254,  3255,  3256,  3342,  3343,\n",
      "        3344,  3430,  3431,  3518,  3519,  3520,  3606,  3607,  3608,\n",
      "        3694,  3695,  3696,  3782,  3783,  3784,  3870,  3871,  3872,\n",
      "        3958,  3959,  3960,  4046,  4047,  4048,  4134,  4135,  4136,\n",
      "        4222,  4223,  4224,  4310,  4311,  4312,  4398,  4399,  4400,\n",
      "        4486,  4487,  4488,  4574,  4575,  4662,  4663,  4664,  4750,\n",
      "        4751,  4752,  4838,  4839,  4840,  4926,  4927,  4928,  5014,\n",
      "        5015,  5016,  5102,  5103,  5104,  5190,  5191,  5192,  5278,\n",
      "        5279,  5280,  5366,  5367,  5368,  5454,  5455,  5456,  5542,\n",
      "        5543,  5544,  5630,  5631,  5632,  5718,  5719,  5806,  5807,\n",
      "        5808,  5894,  5895,  5982,  5983,  5984,  6070,  6071,  6072,\n",
      "        6158,  6159,  6160,  6246,  6247,  6248,  6334,  6335,  6336,\n",
      "        6422,  6423,  6424,  6510,  6511,  6512,  6598,  6599,  6600,\n",
      "        6686,  6687,  6688,  6774,  6775,  6776,  6862,  6863,  6864,\n",
      "        6950,  6951,  6952,  7038,  7039,  7040,  7126,  7127,  7214,\n",
      "        7215,  7216,  7302,  7303,  7390,  7391,  7392,  7478,  7479,\n",
      "        7480,  7566,  7567,  7568,  7654,  7655,  7656,  7742,  7743,\n",
      "        7744,  7830,  7831,  7832,  7918,  7919,  7920,  8006,  8007,\n",
      "        8008,  8094,  8095,  8182,  8183,  8184,  8270,  8271,  8272,\n",
      "        8358,  8359,  8360,  8446,  8447,  8448,  8534,  8535,  8536,\n",
      "        8622,  8623,  8624,  8710,  8711,  8712,  8798,  8799,  8800,\n",
      "        8886,  8887,  8888,  8974,  8975,  9062,  9063,  9064,  9150,\n",
      "        9151,  9152,  9238,  9239,  9240,  9326,  9327,  9328,  9414,\n",
      "        9415,  9502,  9503,  9504,  9590,  9591,  9592,  9678,  9679,\n",
      "        9766,  9767,  9768,  9854,  9855,  9856,  9942,  9943,  9944,\n",
      "       10030, 10031, 10032, 10118, 10119, 10120, 10206, 10207, 10208,\n",
      "       10294, 10295, 10382, 10383, 10384, 10470, 10471, 10472, 10558,\n",
      "       10559, 10560, 10646, 10647, 10734, 10735, 10736, 10737, 10822,\n",
      "       10823, 10824, 10910, 10911, 10998, 10999, 11000, 11086, 11087,\n",
      "       11088, 11174, 11175, 11176, 11262, 11263, 11264, 11350, 11351,\n",
      "       11352, 11438, 11439, 11440, 11526, 11527, 11528, 11614, 11615,\n",
      "       11616, 11702, 11703, 11704, 11790, 11791, 11792, 11878, 11879,\n",
      "       11880, 11966, 11967, 11968, 12054, 12055, 12056, 12142, 12143,\n",
      "       12230, 12231, 12232, 12318, 12319, 12320, 12406, 12407, 12408,\n",
      "       12494, 12495, 12496, 12582, 12583, 12584, 12670, 12671, 12672,\n",
      "       12758, 12759, 12760, 12846, 12847, 12848, 12934, 12935, 12936,\n",
      "       13022, 13023, 13024, 13110, 13111, 13112, 13198, 13199, 13200,\n",
      "       13286, 13287, 13288, 13374, 13375, 13376, 13462, 13463, 13464,\n",
      "       13550, 13551, 13552, 13638, 13639, 13640, 13726, 13727, 13728,\n",
      "       13814, 13815, 13816, 13902, 13903, 13904, 13990, 13991, 13992,\n",
      "       14078, 14079, 14080, 14166, 14167, 14168, 14254, 14255, 14256,\n",
      "       14342, 14343, 14344, 14430, 14431, 14518, 14519, 14520, 14606,\n",
      "       14607, 14608, 14694, 14695, 14696, 14782, 14783, 14784, 14870,\n",
      "       14871, 14872, 14958, 14959, 14960, 15046, 15047, 15048, 15134,\n",
      "       15135, 15222, 15223, 15224, 15310, 15311, 15312, 15398, 15399,\n",
      "       15486, 15487, 15488, 15574, 15575, 15576, 15662, 15663, 15664,\n",
      "       15750, 15751, 15752, 15838, 15839, 15840, 15926, 15927, 16014,\n",
      "       16015, 16102, 16103, 16104, 16190, 16191, 16192, 16278, 16279,\n",
      "       16366, 16367, 16368, 16454, 16455, 16456, 16542, 16543, 16544,\n",
      "       16630, 16631, 16632, 16718, 16719, 16720, 16806, 16807, 16808,\n",
      "       16894, 16895, 16896, 16982, 16983, 16984, 17070, 17071, 17072,\n",
      "       17158, 17159, 17246, 17247, 17334, 17335, 17336, 17422, 17423,\n",
      "       17424, 17510, 17511, 17512, 17598, 17599, 17600, 17686, 17687,\n",
      "       17688, 17774, 17775, 17776, 17862, 17863, 17864, 17950, 17951,\n",
      "       17952, 18038, 18039, 18040, 18126, 18127, 18128, 18214, 18215,\n",
      "       18216, 18302, 18303, 18304, 18390, 18391, 18392, 18478, 18479,\n",
      "       18566, 18567, 18568, 18654, 18655, 18656, 18742, 18743, 18744,\n",
      "       18830, 18831, 18832, 18918, 18919, 18920, 19006, 19007, 19008,\n",
      "       19094, 19095, 19096, 19182, 19183, 19270, 19271, 19272, 19358,\n",
      "       19359, 19360, 19446, 19447, 19448, 19534, 19535, 19536, 19622,\n",
      "       19623, 19624, 19710, 19711, 19712, 19798, 19799, 19800, 19886,\n",
      "       19887, 19888, 19974, 19975, 19976, 20062, 20063, 20064, 20150,\n",
      "       20151, 20152, 20238, 20239, 20240, 20326, 20327, 20328, 20414,\n",
      "       20415, 20502, 20503, 20504, 20590, 20591, 20592, 20678, 20679,\n",
      "       20680, 20766, 20767, 20768, 20854, 20855, 20856, 20942, 20943,\n",
      "       20944, 21030, 21031, 21032, 21118, 21119, 21120, 21206, 21207,\n",
      "       21294, 21295, 21296, 21382, 21383, 21384, 21470, 21471, 21472,\n",
      "       21558, 21559, 21560, 21646, 21647, 21648, 21734, 21735, 21736]),)\n"
     ]
    },
    {
     "name": "stdin",
     "output_type": "stream",
     "text": [
      "(Pdb)      idx = np.diff(labeled_timebins, axis=0).astype(np.bool)     idx = np.insert(idx, 0, True)\n"
     ]
    },
    {
     "name": "stdout",
     "output_type": "stream",
     "text": [
      "*** SyntaxError: invalid syntax\n"
     ]
    },
    {
     "name": "stdin",
     "output_type": "stream",
     "text": [
      "(Pdb)  idx = np.diff(labeled_timebins, axis=0).astype(np.bool)\n",
      "(Pdb)  idx2 = np.insert(idx, 0, True)\n",
      "(Pdb)  idx2\n"
     ]
    },
    {
     "name": "stdout",
     "output_type": "stream",
     "text": [
      "array([ True,  True, False, ..., False, False, False])\n"
     ]
    },
    {
     "name": "stdin",
     "output_type": "stream",
     "text": [
      "(Pdb)  q\n"
     ]
    },
    {
     "ename": "BdbQuit",
     "evalue": "",
     "output_type": "error",
     "traceback": [
      "\u001b[0;31m---------------------------------------------------------------------------\u001b[0m",
      "\u001b[0;31mBdbQuit\u001b[0m                                   Traceback (most recent call last)",
      "\u001b[0;32m<ipython-input-6-f8fbfaf7a50d>\u001b[0m in \u001b[0;36m<module>\u001b[0;34m\u001b[0m\n\u001b[1;32m     37\u001b[0m             \u001b[0mlabelmap\u001b[0m\u001b[0;34m=\u001b[0m\u001b[0mlabelmap\u001b[0m\u001b[0;34m,\u001b[0m\u001b[0;34m\u001b[0m\u001b[0;34m\u001b[0m\u001b[0m\n\u001b[1;32m     38\u001b[0m             \u001b[0mspect_scaler_path\u001b[0m\u001b[0;34m=\u001b[0m\u001b[0mspect_scaler_path\u001b[0m\u001b[0;34m,\u001b[0m\u001b[0;34m\u001b[0m\u001b[0;34m\u001b[0m\u001b[0m\n\u001b[0;32m---> 39\u001b[0;31m             \u001b[0msave_predict_vds\u001b[0m\u001b[0;34m=\u001b[0m\u001b[0;32mTrue\u001b[0m\u001b[0;34m,\u001b[0m\u001b[0;34m\u001b[0m\u001b[0;34m\u001b[0m\u001b[0m\n\u001b[0m\u001b[1;32m     40\u001b[0m         )\n",
      "\u001b[0;32m~/Documents/repos/vak/src/vak/core/predict.py\u001b[0m in \u001b[0;36mpredict\u001b[0;34m(predict_vds_path, checkpoint_path, networks, labelmap, spect_scaler_path, save_predict_vds)\u001b[0m\n\u001b[1;32m    179\u001b[0m                 \u001b[0;31m# TODO: change this when Crowsetta uses Annotation instead of Sequence\u001b[0m\u001b[0;34m\u001b[0m\u001b[0;34m\u001b[0m\u001b[0;34m\u001b[0m\u001b[0m\n\u001b[1;32m    180\u001b[0m                 \u001b[0;31m# annot_dict = voc.annot.as_dict()\u001b[0m\u001b[0;34m\u001b[0m\u001b[0;34m\u001b[0m\u001b[0;34m\u001b[0m\u001b[0m\n\u001b[0;32m--> 181\u001b[0;31m                 \u001b[0mlabels\u001b[0m \u001b[0;34m=\u001b[0m \u001b[0mlbl_tb2labels\u001b[0m\u001b[0;34m(\u001b[0m\u001b[0mlbl_tb\u001b[0m\u001b[0;34m,\u001b[0m \u001b[0mlabelmap\u001b[0m\u001b[0;34m)\u001b[0m\u001b[0;34m\u001b[0m\u001b[0;34m\u001b[0m\u001b[0m\n\u001b[0m\u001b[1;32m    182\u001b[0m                 \u001b[0mvoc\u001b[0m\u001b[0;34m.\u001b[0m\u001b[0mannot\u001b[0m \u001b[0;34m=\u001b[0m \u001b[0mcrowsetta\u001b[0m\u001b[0;34m.\u001b[0m\u001b[0mSequence\u001b[0m\u001b[0;34m.\u001b[0m\u001b[0mfrom_dict\u001b[0m\u001b[0;34m(\u001b[0m\u001b[0mannot_dict\u001b[0m\u001b[0;34m)\u001b[0m\u001b[0;34m\u001b[0m\u001b[0;34m\u001b[0m\u001b[0m\n\u001b[1;32m    183\u001b[0m \u001b[0;34m\u001b[0m\u001b[0m\n",
      "\u001b[0;32m~/Documents/repos/vak/src/vak/utils/labels.py\u001b[0m in \u001b[0;36mlbl_tb2labels\u001b[0;34m(labeled_timebins, labels_mapping, spect_ID_vector)\u001b[0m\n\u001b[1;32m    307\u001b[0m     \"\"\"\n\u001b[1;32m    308\u001b[0m     \u001b[0;32mimport\u001b[0m \u001b[0mpdb\u001b[0m\u001b[0;34m;\u001b[0m\u001b[0mpdb\u001b[0m\u001b[0;34m.\u001b[0m\u001b[0mset_trace\u001b[0m\u001b[0;34m(\u001b[0m\u001b[0;34m)\u001b[0m\u001b[0;34m\u001b[0m\u001b[0;34m\u001b[0m\u001b[0m\n\u001b[0;32m--> 309\u001b[0;31m     \u001b[0midx\u001b[0m \u001b[0;34m=\u001b[0m \u001b[0mnp\u001b[0m\u001b[0;34m.\u001b[0m\u001b[0mdiff\u001b[0m\u001b[0;34m(\u001b[0m\u001b[0mlabeled_timebins\u001b[0m\u001b[0;34m,\u001b[0m \u001b[0maxis\u001b[0m\u001b[0;34m=\u001b[0m\u001b[0;36m0\u001b[0m\u001b[0;34m)\u001b[0m\u001b[0;34m.\u001b[0m\u001b[0mastype\u001b[0m\u001b[0;34m(\u001b[0m\u001b[0mnp\u001b[0m\u001b[0;34m.\u001b[0m\u001b[0mbool\u001b[0m\u001b[0;34m)\u001b[0m\u001b[0;34m\u001b[0m\u001b[0;34m\u001b[0m\u001b[0m\n\u001b[0m\u001b[1;32m    310\u001b[0m     \u001b[0midx\u001b[0m \u001b[0;34m=\u001b[0m \u001b[0mnp\u001b[0m\u001b[0;34m.\u001b[0m\u001b[0minsert\u001b[0m\u001b[0;34m(\u001b[0m\u001b[0midx\u001b[0m\u001b[0;34m,\u001b[0m \u001b[0;36m0\u001b[0m\u001b[0;34m,\u001b[0m \u001b[0;32mTrue\u001b[0m\u001b[0;34m)\u001b[0m\u001b[0;34m\u001b[0m\u001b[0;34m\u001b[0m\u001b[0m\n\u001b[1;32m    311\u001b[0m \u001b[0;34m\u001b[0m\u001b[0m\n",
      "\u001b[0;32m~/Documents/repos/vak/src/vak/utils/labels.py\u001b[0m in \u001b[0;36mlbl_tb2labels\u001b[0;34m(labeled_timebins, labels_mapping, spect_ID_vector)\u001b[0m\n\u001b[1;32m    307\u001b[0m     \"\"\"\n\u001b[1;32m    308\u001b[0m     \u001b[0;32mimport\u001b[0m \u001b[0mpdb\u001b[0m\u001b[0;34m;\u001b[0m\u001b[0mpdb\u001b[0m\u001b[0;34m.\u001b[0m\u001b[0mset_trace\u001b[0m\u001b[0;34m(\u001b[0m\u001b[0;34m)\u001b[0m\u001b[0;34m\u001b[0m\u001b[0;34m\u001b[0m\u001b[0m\n\u001b[0;32m--> 309\u001b[0;31m     \u001b[0midx\u001b[0m \u001b[0;34m=\u001b[0m \u001b[0mnp\u001b[0m\u001b[0;34m.\u001b[0m\u001b[0mdiff\u001b[0m\u001b[0;34m(\u001b[0m\u001b[0mlabeled_timebins\u001b[0m\u001b[0;34m,\u001b[0m \u001b[0maxis\u001b[0m\u001b[0;34m=\u001b[0m\u001b[0;36m0\u001b[0m\u001b[0;34m)\u001b[0m\u001b[0;34m.\u001b[0m\u001b[0mastype\u001b[0m\u001b[0;34m(\u001b[0m\u001b[0mnp\u001b[0m\u001b[0;34m.\u001b[0m\u001b[0mbool\u001b[0m\u001b[0;34m)\u001b[0m\u001b[0;34m\u001b[0m\u001b[0;34m\u001b[0m\u001b[0m\n\u001b[0m\u001b[1;32m    310\u001b[0m     \u001b[0midx\u001b[0m \u001b[0;34m=\u001b[0m \u001b[0mnp\u001b[0m\u001b[0;34m.\u001b[0m\u001b[0minsert\u001b[0m\u001b[0;34m(\u001b[0m\u001b[0midx\u001b[0m\u001b[0;34m,\u001b[0m \u001b[0;36m0\u001b[0m\u001b[0;34m,\u001b[0m \u001b[0;32mTrue\u001b[0m\u001b[0;34m)\u001b[0m\u001b[0;34m\u001b[0m\u001b[0;34m\u001b[0m\u001b[0m\n\u001b[1;32m    311\u001b[0m \u001b[0;34m\u001b[0m\u001b[0m\n",
      "\u001b[0;32m~/anaconda3/envs/vak-env/lib/python3.6/bdb.py\u001b[0m in \u001b[0;36mtrace_dispatch\u001b[0;34m(self, frame, event, arg)\u001b[0m\n\u001b[1;32m     49\u001b[0m             \u001b[0;32mreturn\u001b[0m \u001b[0;31m# None\u001b[0m\u001b[0;34m\u001b[0m\u001b[0;34m\u001b[0m\u001b[0m\n\u001b[1;32m     50\u001b[0m         \u001b[0;32mif\u001b[0m \u001b[0mevent\u001b[0m \u001b[0;34m==\u001b[0m \u001b[0;34m'line'\u001b[0m\u001b[0;34m:\u001b[0m\u001b[0;34m\u001b[0m\u001b[0;34m\u001b[0m\u001b[0m\n\u001b[0;32m---> 51\u001b[0;31m             \u001b[0;32mreturn\u001b[0m \u001b[0mself\u001b[0m\u001b[0;34m.\u001b[0m\u001b[0mdispatch_line\u001b[0m\u001b[0;34m(\u001b[0m\u001b[0mframe\u001b[0m\u001b[0;34m)\u001b[0m\u001b[0;34m\u001b[0m\u001b[0;34m\u001b[0m\u001b[0m\n\u001b[0m\u001b[1;32m     52\u001b[0m         \u001b[0;32mif\u001b[0m \u001b[0mevent\u001b[0m \u001b[0;34m==\u001b[0m \u001b[0;34m'call'\u001b[0m\u001b[0;34m:\u001b[0m\u001b[0;34m\u001b[0m\u001b[0;34m\u001b[0m\u001b[0m\n\u001b[1;32m     53\u001b[0m             \u001b[0;32mreturn\u001b[0m \u001b[0mself\u001b[0m\u001b[0;34m.\u001b[0m\u001b[0mdispatch_call\u001b[0m\u001b[0;34m(\u001b[0m\u001b[0mframe\u001b[0m\u001b[0;34m,\u001b[0m \u001b[0marg\u001b[0m\u001b[0;34m)\u001b[0m\u001b[0;34m\u001b[0m\u001b[0;34m\u001b[0m\u001b[0m\n",
      "\u001b[0;32m~/anaconda3/envs/vak-env/lib/python3.6/bdb.py\u001b[0m in \u001b[0;36mdispatch_line\u001b[0;34m(self, frame)\u001b[0m\n\u001b[1;32m     68\u001b[0m         \u001b[0;32mif\u001b[0m \u001b[0mself\u001b[0m\u001b[0;34m.\u001b[0m\u001b[0mstop_here\u001b[0m\u001b[0;34m(\u001b[0m\u001b[0mframe\u001b[0m\u001b[0;34m)\u001b[0m \u001b[0;32mor\u001b[0m \u001b[0mself\u001b[0m\u001b[0;34m.\u001b[0m\u001b[0mbreak_here\u001b[0m\u001b[0;34m(\u001b[0m\u001b[0mframe\u001b[0m\u001b[0;34m)\u001b[0m\u001b[0;34m:\u001b[0m\u001b[0;34m\u001b[0m\u001b[0;34m\u001b[0m\u001b[0m\n\u001b[1;32m     69\u001b[0m             \u001b[0mself\u001b[0m\u001b[0;34m.\u001b[0m\u001b[0muser_line\u001b[0m\u001b[0;34m(\u001b[0m\u001b[0mframe\u001b[0m\u001b[0;34m)\u001b[0m\u001b[0;34m\u001b[0m\u001b[0;34m\u001b[0m\u001b[0m\n\u001b[0;32m---> 70\u001b[0;31m             \u001b[0;32mif\u001b[0m \u001b[0mself\u001b[0m\u001b[0;34m.\u001b[0m\u001b[0mquitting\u001b[0m\u001b[0;34m:\u001b[0m \u001b[0;32mraise\u001b[0m \u001b[0mBdbQuit\u001b[0m\u001b[0;34m\u001b[0m\u001b[0;34m\u001b[0m\u001b[0m\n\u001b[0m\u001b[1;32m     71\u001b[0m         \u001b[0;32mreturn\u001b[0m \u001b[0mself\u001b[0m\u001b[0;34m.\u001b[0m\u001b[0mtrace_dispatch\u001b[0m\u001b[0;34m\u001b[0m\u001b[0;34m\u001b[0m\u001b[0m\n\u001b[1;32m     72\u001b[0m \u001b[0;34m\u001b[0m\u001b[0m\n",
      "\u001b[0;31mBdbQuit\u001b[0m: "
     ]
    }
   ],
   "source": [
    "for bird in BIRDS:\n",
    "    print(f'predicting segments and labels for bird: {bird}')\n",
    "    config_ini = configs_by_bird[bird]\n",
    "    config_obj = ConfigParser()\n",
    "    config_obj.read(config_ini)\n",
    "\n",
    "    train_config = vak.config.train.parse_train_config(config_obj, config_ini)\n",
    "    net_config = vak.config.parse._get_nets_config(config_obj, train_config.networks)\n",
    "\n",
    "    results_dir = config_obj['OUTPUT']['results_dir_made_by_main_script']\n",
    "    checkpoint_path = str(Path(results_dir).joinpath('TweetyNet'))\n",
    "    spect_scaler_path = str(Path(results_dir).joinpath('spect_scaler'))\n",
    "\n",
    "    # TODO: fix path\n",
    "    print(f'\\tgetting labelmap from {train_config.train_vds_path}')\n",
    "    train_vds = vak.dataset.VocalizationDataset.load(train_config.train_vds_path)\n",
    "    train_vds = train_vds.load_spects()\n",
    "    labelmap = train_vds.labelmap\n",
    "    \n",
    "    bird_dirs_predict = dirs_to_predict[bird]    \n",
    "    for dir_to_predict in bird_dirs_predict:\n",
    "        vds_fname = str(dir_to_predict.joinpath('predict.vds.json'))\n",
    "        print(f'\\tmaking dataset from {dir_to_predict}')\n",
    "        predict_vds = vak.dataset.prep(str(dir_to_predict),\n",
    "                                       audio_format='cbin',\n",
    "                                       spect_params=sp_nt,\n",
    "                                       return_vds=True,\n",
    "                                       return_path=False)\n",
    "        predict_vds = predict_vds.clear_spects()\n",
    "        predict_vds.save(json_fname=vds_fname)\n",
    "\n",
    "        print(f'\\trunning vak.core.predict on {dir_to_predict}')\n",
    "        vak.core.predict(\n",
    "            predict_vds_path=vds_fname,\n",
    "            checkpoint_path=checkpoint_path,\n",
    "            networks=net_config,\n",
    "            labelmap=labelmap,\n",
    "            spect_scaler_path=spect_scaler_path,\n",
    "            save_predict_vds=True,\n",
    "        )"
   ]
  }
 ],
 "metadata": {
  "kernelspec": {
   "display_name": "Python 3",
   "language": "python",
   "name": "python3"
  },
  "language_info": {
   "codemirror_mode": {
    "name": "ipython",
    "version": 3
   },
   "file_extension": ".py",
   "mimetype": "text/x-python",
   "name": "python",
   "nbconvert_exporter": "python",
   "pygments_lexer": "ipython3",
   "version": "3.6.8"
  }
 },
 "nbformat": 4,
 "nbformat_minor": 2
}
