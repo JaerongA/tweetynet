{
 "cells": [
  {
   "cell_type": "code",
   "execution_count": 1,
   "metadata": {},
   "outputs": [
    {
     "name": "stderr",
     "output_type": "stream",
     "text": [
      "/home/ildefonso/anaconda3/envs/tweetynet/lib/python3.6/site-packages/dask/config.py:168: YAMLLoadWarning: calling yaml.load() without Loader=... is deprecated, as the default Loader is unsafe. Please read https://msg.pyyaml.org/load for full details.\n",
      "  data = yaml.load(f.read()) or {}\n",
      "/home/ildefonso/anaconda3/envs/tweetynet/lib/python3.6/importlib/_bootstrap.py:219: RuntimeWarning: compiletime version 3.5 of module 'tensorflow.python.framework.fast_tensor_util' does not match runtime version 3.6\n",
      "  return f(*args, **kwds)\n"
     ]
    }
   ],
   "source": [
    "from configparser import ConfigParser\n",
    "import os\n",
    "from pathlib import Path\n",
    "import shutil\n",
    "\n",
    "import vak"
   ]
  },
  {
   "cell_type": "code",
   "execution_count": 2,
   "metadata": {},
   "outputs": [],
   "source": [
    "BIRDS = ['bl26lb16', 'gy6or6', 'or60yw70', 'gr41rd51']\n",
    "\n",
    "CONFIGS_DIR = Path('../../src/configs/')\n",
    "BF_CONFIGS = sorted(list(CONFIGS_DIR.glob('*BFSongRepository*ini')))\n",
    "\n",
    "\n",
    "configs_by_bird = {\n",
    "    bird: [bf_config for bf_config in BF_CONFIGS if bird in str(bf_config)][0]\n",
    "    for bird in BIRDS\n",
    "}"
   ]
  },
  {
   "cell_type": "code",
   "execution_count": 3,
   "metadata": {},
   "outputs": [],
   "source": [
    "BFSongRepo = Path('~/Documents/data/birdsong/BFSongRepository/')\n",
    "\n",
    "all_notmats = list(BFSongRepo.glob('*/*/*.not.mat'))\n",
    "bird_date_dirs = set([notmat.parents[0] for notmat in all_notmats])"
   ]
  },
  {
   "cell_type": "markdown",
   "metadata": {},
   "source": [
    "copy all .cbins with .not.mats into a sub-directory"
   ]
  },
  {
   "cell_type": "code",
   "execution_count": 28,
   "metadata": {},
   "outputs": [],
   "source": [
    "# for bird_date_dir in bird_date_dirs:\n",
    "#     has_notmat = bird_date_dir.joinpath('has_notmat')\n",
    "#     has_notmat.mkdir(exist_ok=True)\n",
    "#     notmats_this_date_dir = sorted(list(bird_date_dir.glob('*.not.mat')))\n",
    "#     for notmat in notmats_this_date_dir:\n",
    "#         shutil.copy(notmat, dst=has_notmat)\n",
    "#         cbin = notmat.parent.joinpath(\n",
    "#             Path(notmat.stem).stem\n",
    "#         )\n",
    "#         shutil.copy(cbin, dst=has_notmat)  # cbin_file, stem.stem removes .not.mat\n",
    "#         rec = notmat.parent.joinpath(\n",
    "#             Path(Path(notmat.stem).stem).stem + '.rec'\n",
    "#         )\n",
    "#         shutil.copy(rec, dst=has_notmat)\n",
    "#         tmp = notmat.parent.joinpath(\n",
    "#             Path(Path(notmat.stem).stem).stem + '.tmp'\n",
    "#         )\n",
    "#         shutil.copy(tmp, dst=has_notmat)"
   ]
  },
  {
   "cell_type": "markdown",
   "metadata": {},
   "source": [
    "get dirs to predict for each bird"
   ]
  },
  {
   "cell_type": "code",
   "execution_count": 5,
   "metadata": {},
   "outputs": [],
   "source": [
    "dirs_to_predict = {}\n",
    "for bird in BIRDS:\n",
    "    these = [\n",
    "        bird_date_dir for bird_date_dir in bird_date_dirs\n",
    "        if bird in str(bird_date_dir)\n",
    "    ]\n",
    "    these = [path.joinpath('has_notmat')\n",
    "             for path in these]\n",
    "    dirs_to_predict[bird] = these"
   ]
  },
  {
   "cell_type": "code",
   "execution_count": null,
   "metadata": {},
   "outputs": [],
   "source": [
    "spect_params = {'fft_size': 512,\n",
    "                'step_size': 62,\n",
    "                'freq_cutoffs': [500, 10000],\n",
    "                'thresh': 6.25,\n",
    "                'transform_type': 'log_spect'}\n",
    "sp_nt = vak.config.spectrogram.SpectConfig(**spect_params)"
   ]
  },
  {
   "cell_type": "code",
   "execution_count": 4,
   "metadata": {},
   "outputs": [
    {
     "ename": "SyntaxError",
     "evalue": "invalid syntax (<ipython-input-4-e4f038dbed7c>, line 11)",
     "output_type": "error",
     "traceback": [
      "\u001b[0;36m  File \u001b[0;32m\"<ipython-input-4-e4f038dbed7c>\"\u001b[0;36m, line \u001b[0;32m11\u001b[0m\n\u001b[0;31m    'train').glob('records_for_training_set*'))[0]\u001b[0m\n\u001b[0m                                              ^\u001b[0m\n\u001b[0;31mSyntaxError\u001b[0m\u001b[0;31m:\u001b[0m invalid syntax\n"
     ]
    }
   ],
   "source": [
    "for bird in BIRDS:\n",
    "    config_ini = configs_by_bird[bird]\n",
    "    config_obj = ConfigParser()\n",
    "    config_obj.read(config_ini)\n",
    "\n",
    "    train_config = vak.config.train.parse_train_config(config_obj, config_file)\n",
    "    net_config = vak.config.parse._get_nets_config(config_obj, train_config.networks)\n",
    "\n",
    "    results_dir = config_obj['OUTPUT']['results_dir_made_by_main_script']\n",
    "    training_records_dir = list(\n",
    "        Path(a_results_dir).joinpath('train').glob(\n",
    "            'records_for_training_set*'))[0]\n",
    "    # TODO: fix path in checkpoint\n",
    "    checkpoint_path = str(Path(training_records_dir).joinpath(\n",
    "        'TweetyNet', 'checkpoints'))\n",
    "    spect_scaler_path = list(\n",
    "        Path(training_records_dir).glob('spect_scaler_*'))[0]\n",
    "    spect_scaler_path = str(spect_scaler)\n",
    "\n",
    "    # TODO: fix path\n",
    "    train_vds = vak.dataset.VocalizationDataset.load(train_config.train_vds_path)\n",
    "    train_vds = train_vds.load_spects()\n",
    "    labelmap = train_vds.labelmap\n",
    "    \n",
    "    bird_dirs_predict = dirs_to_predict[bird]    \n",
    "    for dir_to_predict in bird_dirs_predict:\n",
    "        vds_fname = str(birds_dirs_predict.joinpath('predict.vds.json'))\n",
    "        vak.dataset.prep(data_dir,\n",
    "                         audio_format='cbin',\n",
    "                         spect_params=sp_nt,\n",
    "                         vds_fname=vds_fname,\n",
    "                         return_vds=False,)\n",
    "        vak.cli.predict(\n",
    "            predict_vds_path=vds_fname,\n",
    "            checkpoint_path=checkpoint_path,\n",
    "            networks=net_config,\n",
    "            labelmap=labelmap,\n",
    "            spect_scaler_path=spect_scaler_path,\n",
    "            save_predict_vds=True,\n",
    "        )"
   ]
  }
 ],
 "metadata": {
  "kernelspec": {
   "display_name": "Python 3",
   "language": "python",
   "name": "python3"
  },
  "language_info": {
   "codemirror_mode": {
    "name": "ipython",
    "version": 3
   },
   "file_extension": ".py",
   "mimetype": "text/x-python",
   "name": "python",
   "nbconvert_exporter": "python",
   "pygments_lexer": "ipython3",
   "version": "3.6.3"
  }
 },
 "nbformat": 4,
 "nbformat_minor": 2
}
