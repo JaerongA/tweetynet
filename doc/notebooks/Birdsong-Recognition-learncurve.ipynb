{
 "cells": [
  {
   "cell_type": "code",
   "execution_count": 5,
   "metadata": {},
   "outputs": [],
   "source": [
    "from pathlib import Path\n",
    "\n",
    "import seaborn as sns\n",
    "\n",
    "import article"
   ]
  },
  {
   "cell_type": "code",
   "execution_count": 2,
   "metadata": {},
   "outputs": [],
   "source": [
    "config_dir = Path('../../src/configs/')\n",
    "config_files = config_dir.glob('*BirdsongRecognition*ini')\n",
    "config_files = sorted([config_file for config_file in config_files])\n",
    "\n",
    "data_dir = Path('../../data/')\n",
    "test_dirs = data_dir / 'BirdsongRecognition'\n",
    "test_dirs = test_dirs.glob('Bird*/')\n",
    "test_dirs = sorted([test_dir for test_dir in test_dirs])\n",
    "\n",
    "csv_fname = str(Path('../../results/BirdsongRecognition_test.csv'))"
   ]
  },
  {
   "cell_type": "code",
   "execution_count": 3,
   "metadata": {},
   "outputs": [],
   "source": [
    "df = article.util.make_df_birdsong_rec(config_files, test_dirs, \n",
    "                          net_name='TweetyNet', csv_fname=csv_fname, train_set_durs=[60, 120, 480])\n",
    "agg_df = article.util.agg_df_birdsong_rec(df, [60, 120, 480])"
   ]
  },
  {
   "cell_type": "code",
   "execution_count": 6,
   "metadata": {},
   "outputs": [],
   "source": [
    "sns.set_style(\"darkgrid\")"
   ]
  },
  {
   "cell_type": "code",
   "execution_count": 8,
   "metadata": {},
   "outputs": [],
   "source": [
    "save_as = '../article/figures/fig3/error-rates.svg'\n",
    "ax_frame_err = article.plot.error_rate_test_mean(agg_df, \n",
    "                                                 save_as=save_as, transparent=False)"
   ]
  }
 ],
 "metadata": {
  "kernelspec": {
   "display_name": "Python 3",
   "language": "python",
   "name": "python3"
  },
  "language_info": {
   "codemirror_mode": {
    "name": "ipython",
    "version": 3
   },
   "file_extension": ".py",
   "mimetype": "text/x-python",
   "name": "python",
   "nbconvert_exporter": "python",
   "pygments_lexer": "ipython3",
   "version": "3.6.5"
  }
 },
 "nbformat": 4,
 "nbformat_minor": 4
}
