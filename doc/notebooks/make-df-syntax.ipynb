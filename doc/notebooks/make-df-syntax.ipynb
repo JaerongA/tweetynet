{
 "cells": [
  {
   "cell_type": "code",
   "execution_count": 30,
   "metadata": {},
   "outputs": [],
   "source": [
    "%matplotlib inline\n",
    "from datetime import datetime\n",
    "\n",
    "import matplotlib.pyplot as plt\n",
    "import numpy as np\n",
    "import pandas as pd\n",
    "\n",
    "import vak\n",
    "\n",
    "import article"
   ]
  },
  {
   "cell_type": "code",
   "execution_count": 2,
   "metadata": {},
   "outputs": [
    {
     "name": "stdout",
     "output_type": "stream",
     "text": [
      "/home/art/Documents/repos/coding/birdsong/tweetynet/data/BFSongRepository/bl26lb16/vds\n"
     ]
    }
   ],
   "source": [
    "cd /home/art/Documents/repos/coding/birdsong/tweetynet/data/BFSongRepository/bl26lb16/vds"
   ]
  },
  {
   "cell_type": "code",
   "execution_count": 3,
   "metadata": {},
   "outputs": [],
   "source": [
    "vds_041912 = vak.Dataset.load('041912.has_notmat.test.vds.json') "
   ]
  },
  {
   "cell_type": "code",
   "execution_count": 4,
   "metadata": {},
   "outputs": [],
   "source": [
    "df = article.util.make_df_trans_probs([vds_041912])"
   ]
  },
  {
   "cell_type": "code",
   "execution_count": 20,
   "metadata": {},
   "outputs": [],
   "source": [
    "def get_trans_prob(df, date, label, label_plus_one):\n",
    "    df_date = df[df['date'] == date]\n",
    "    label_count = len(\n",
    "        df_date[df_date['label'] == label].index\n",
    "    )\n",
    "    trans_count = len(\n",
    "        df_date[(df_date['label'] == label) & (df_date['label_plus_one'] == label_plus_one)].index\n",
    "    )\n",
    "    p = trans_count / label_count\n",
    "    return p"
   ]
  },
  {
   "cell_type": "code",
   "execution_count": 21,
   "metadata": {},
   "outputs": [
    {
     "data": {
      "text/plain": [
       "0.5836148648648649"
      ]
     },
     "execution_count": 21,
     "metadata": {},
     "output_type": "execute_result"
    }
   ],
   "source": [
    "day = datetime(2012, 4, 19).date()\n",
    "get_trans_prob(df, day, 'i', 'a')"
   ]
  },
  {
   "cell_type": "code",
   "execution_count": 81,
   "metadata": {},
   "outputs": [],
   "source": [
    "def make_trans_mat(df, min_p=0.01):\n",
    "    labels = df['label'].unique()\n",
    "    num_labels = labels.shape[0]\n",
    "    trans_mat = np.zeros((num_labels, num_labels))\n",
    "    for row, label in enumerate(labels):\n",
    "        if label == 'E':\n",
    "            continue\n",
    "        else:\n",
    "            for col, label_plus_one in enumerate(labels):\n",
    "                p = get_trans_prob(df, day, label, label_plus_one)\n",
    "                if p > min_p:\n",
    "                    trans_mat[row, col] = p\n",
    "                else:\n",
    "                    trans_mat[row, col] = 0.\n",
    "    # adjust so all rows sum to 1\n",
    "    row_sums = trans_mat.sum(axis = 1)\n",
    "    trans_mat = trans_mat[row_sums != 0.0, :]\n",
    "    row_sums = trans_mat.sum(axis = 1)\n",
    "    trans_mat = trans_mat / row_sums[:, np.newaxis]\n",
    "    return trans_mat"
   ]
  },
  {
   "cell_type": "code",
   "execution_count": 82,
   "metadata": {},
   "outputs": [],
   "source": [
    "trans_mat = make_trans_mat(df)"
   ]
  },
  {
   "cell_type": "code",
   "execution_count": 84,
   "metadata": {},
   "outputs": [
    {
     "data": {
      "text/plain": [
       "(-0.5, 8.5)"
      ]
     },
     "execution_count": 84,
     "metadata": {},
     "output_type": "execute_result"
    },
    {
     "data": {
      "image/png": "[encoded data removed]",
      "text/plain": [
       "<Figure size 432x288 with 1 Axes>"
      ]
     },
     "metadata": {
      "needs_background": "light"
     },
     "output_type": "display_data"
    }
   ],
   "source": [
    "fig, ax = plt.subplots()\n",
    "ax.imshow(trans_mat, cmap='bone')\n",
    "ax.set_yticks(range(num_labels - 1))\n",
    "ax.set_yticklabels(labels)\n",
    "ax.set_ylim([-0.5, (num_labels -1) + 0.5])\n",
    "\n",
    "ax.set_xticks(range(num_labels))\n",
    "ax.set_xticklabels(labels);\n",
    "ax.set_xlim([-0.5, (num_labels -1) + 0.5])"
   ]
  },
  {
   "cell_type": "code",
   "execution_count": null,
   "metadata": {},
   "outputs": [],
   "source": []
  }
 ],
 "metadata": {
  "kernelspec": {
   "display_name": "Python 3",
   "language": "python",
   "name": "python3"
  },
  "language_info": {
   "codemirror_mode": {
    "name": "ipython",
    "version": 3
   },
   "file_extension": ".py",
   "mimetype": "text/x-python",
   "name": "python",
   "nbconvert_exporter": "python",
   "pygments_lexer": "ipython3",
   "version": "3.6.7"
  }
 },
 "nbformat": 4,
 "nbformat_minor": 4
}
